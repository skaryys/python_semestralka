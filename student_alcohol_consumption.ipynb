{
 "cells": [
  {
   "cell_type": "markdown",
   "metadata": {},
   "source": [
    "# Student Alcohol Consumption\n",
    "\n",
    "//Nechal bych v týhle buňce jen nadpis výše, tohle jen tak narychlo osnova\n",
    "\n",
    "## Popis datasetu\n",
    "\n",
    "Nějaký kecy blablabla\n",
    "\n",
    "## Zpracování dat (preprocessing)\n",
    "\n",
    "Asi pro nás spojení těch dvou datasetů, zprůměrování skore alkoholismu v pracovní den s víkendem možná? Plus odstranění některých sloupců. Mělo by být použité pandas.\n",
    "\n",
    "## Vizualizace dat\n",
    "\n",
    "Viz příklad co má na webu k předmětu https://www.datacamp.com/community/tutorials/scikit-learn-tutorial-baseball-1\n",
    "\n",
    "## Modelování\n",
    "\n",
    "Každej jeden model asi? Musí se použít buď rozdělení dat na testovací/trénovací či crossvalidace. Za mě bych se přikláněl ke crossvalidaci. Nutno použít balíky z sklearn.\n",
    "\n",
    "## \"Tunění\" parametrů\n",
    "\n",
    "Buď zkusit několik konfigurací modelu a srovnat je, či grid search apod.\n",
    "\n",
    "## Výsledky/Evaluace\n",
    "\n",
    "výsledky, jak byl modej dobrej apod., plus nějaký kecy třeba že největší vliv na to má matčino povolání \n",
    "\n",
    "zobrazit accuracy, pak mě třeba napadá matice záměn nebo co se nám bude chtít\n"
   ]
  }
 ],
 "metadata": {
  "kernelspec": {
   "display_name": "Python 3",
   "language": "python",
   "name": "python3"
  },
  "language_info": {
   "codemirror_mode": {
    "name": "ipython",
    "version": 3
   },
   "file_extension": ".py",
   "mimetype": "text/x-python",
   "name": "python",
   "nbconvert_exporter": "python",
   "pygments_lexer": "ipython3",
   "version": "3.7.1"
  }
 },
 "nbformat": 4,
 "nbformat_minor": 2
}
