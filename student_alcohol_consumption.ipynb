{
 "cells": [
  {
   "cell_type": "markdown",
   "metadata": {},
   "source": [
    "# Student Alcohol Consumption\n",
    "\n",
    "Martin Škára + Jindřich Buk\n",
    "\n",
    "Tato semestrální práce se zabývá zpracováním datasetu Student Alcohol Consumption, získaného zde: https://data.world/data-society/student-alcohol-consumption. Tento iPython notebook se skládá z následujících částí: základní popis tohoto datasetu, zpracování a preprocessing dat, vizualizace dat, vytvoření modelů, tuning metaparametrů, výsledky a evaluace. \n",
    "\n",
    "\n",
    "//Nechal bych v týhle buňce jen něco na způsob výše, tohle jen tak narychlo osnova\n",
    "\n",
    "## Osnova - po dokončení smazat\n",
    "\n",
    "### Popis datasetu\n",
    "\n",
    "Za mě, minimálně základně DONE (Martin 4.4.2019)\n",
    "\n",
    "### Zpracování dat (preprocessing)\n",
    "\n",
    "Asi pro nás spojení těch dvou datasetů, zprůměrování skore alkoholismu v pracovní den s víkendem možná? Plus odstranění některých sloupců. Mělo by být použité pandas.\n",
    "\n",
    "### Vizualizace dat\n",
    "\n",
    "Viz příklad co má na webu k předmětu https://www.datacamp.com/community/tutorials/scikit-learn-tutorial-baseball-1\n",
    "\n",
    "### Modelování\n",
    "\n",
    "Každej jeden model asi? Musí se použít buď rozdělení dat na testovací/trénovací či crossvalidace. Za mě bych se přikláněl ke crossvalidaci. Nutno použít balíky z sklearn.\n",
    "\n",
    "### \"Tunění\" parametrů\n",
    "\n",
    "Buď zkusit několik konfigurací modelu a srovnat je, či grid search apod.\n",
    "\n",
    "### Výsledky/Evaluace\n",
    "\n",
    "výsledky, jak byl modej dobrej apod., plus nějaký kecy třeba že největší vliv na to má matčino povolání \n",
    "\n",
    "zobrazit accuracy, pak mě třeba napadá matice záměn nebo co se nám bude chtít\n"
   ]
  },
  {
   "cell_type": "markdown",
   "metadata": {},
   "source": [
    "## Popis datasetu\n",
    "\n",
    "Data byla získána pomocí dotazníku mezi studenty matematiky a portugalštiny na střední škole. Samotný dataset je rozdělený mezi dva menší - jeden obsahuje odpovědi studentů matematiky, druhý odpovědi studentů portugalštiny. Dataset samotný se zajímá různými informacemi o studentovi, ale jeho cílem je zmapovat chování a zázemí studentů a jejich vztah k alkoholu.\n",
    "\n",
    "### Atributy datasetu\n",
    "\n",
    "* *school* - Škola, na kterou studenti chodí ('GP' - Gabriel Pereira a 'MS' - Mousinho da Silveira)\n",
    "* *sex* - Pohlaví studenta ('F' pro ženu, 'M' pro muže)\n",
    "* *age* - Věk studenta (číslo)\n",
    "* *adress* - Typ studentova bydliště ('U' - urban (město), 'R' - rural (venkov))\n",
    "* *famsize* - Počet členů studentovy rodiny v domácnosti ('LT3' - 3 a méně, 'GT3' - více než 3)\n",
    "* *Pstatus* - Atribut označuje zdali studentovi rodiče žijí spolu či ne ('T' - žijí spolu, 'A' - žijí odděleně)\n",
    "* *Medu* - vzdělání matky (0 - žádné, 1 - základní vzdělání (4th grade), 2 - základní vzdělání (více než 4th grade), 3 - středoškolské vzdělání, 4 - vyšší vzdělání)\n",
    "* *Fedu* - obdobný atribut jako Medu, označující vzdělání otce\n",
    "* *Mjob* - práce matky ('teacher' - učitelka, 'health' - vztahující se ke zdraví a péči, 'services' - státní zaměstnankyně, 'at_home' - v domácnosti, 'other' - jiné)\n",
    "* *Fjob* - obdobný atribut jako Mjob, označující práci otce\n",
    "* *reason* - Důvod, proč si student vybral jeho školu ('home' - blízko domova, 'reputation' - reputace školy, 'course' - kvůli předmětům/oboru, 'other' - jiné)\n",
    "* *guardian* - zákonný zástupce ('mother' - matka, 'father' - otec, 'other' - někdo jiný)\n",
    "* *traveltime* - jak dlouho student cestuje do školy (1 - do 15 min., 2 - mezi 15 a 30 min., 3 - mezi 30 min. a 1 hodinou, 4 - více než hodinu)\n",
    "* *studytime* - kolik hodin týdně se student doma učí (1 - méně než 2 hodiny, 2 - 2-5 hodin, 3 - 5-10 hodin, 4 - více než 10 hodin)\n",
    "* *failures* - kolik předmětů student dokončil neúspěšně\n",
    "* *schoolsup* - Má extra doučování ve škole\n",
    "* *famsup* - Má doučování doma od rodiny\n",
    "* *paid* - Má placené doučování? \n",
    "* *activities* - Zdali se student účastní nějakých extra aktivit ve škole (spolky, týmy apod.)\n",
    "* *nursery* - Chodil student do školky?\n",
    "* *higher* - Chce jít student dále na vysokou či vyšší odbornou školu?\n",
    "* *internet* - Má doma student přístup k internetu?\n",
    "* *romantic* - Má student přítele/přítelkyni?\n",
    "* *famrel* - Kvalita studentových vztahů v rodině (1 - nejhorší až 5 - nejlepší)\n",
    "* *freetime* - Kolik volného času má student mimo školu (1 - velmi málo až 5 - velmi mnoho)\n",
    "* *goout* - Jak často chodí student ven s kamarády (1 - vůbec či téměř ne až 5 - velmi často)\n",
    "* *Dalc* - Jak moc student konzumuje alkohol v pracovním týdnu (1 - vůbec či téměř ne až 5 - velmi)\n",
    "* *Walc* - Obdobný atribut jako Dalc, ale označuje konzumaci alkoholu o víkendech\n",
    "* *health* - studentova zdravotní kondice (1 - velmi špatná až 5 - velmi dobrá)\n",
    "* *absences* - počet absencí ve škole\n",
    "* *G1* - známka z předmětu  v prvním pololetí\n",
    "* *G2* - známka z předmětu  v druhém pololetí\n",
    "* *G3* - konečná známka z předmětu\n",
    "\n",
    "Někteří studenti spadají do obou částí datasetu, tj. studovali jak portugalštinu, tak matiku. "
   ]
  },
  {
   "cell_type": "markdown",
   "metadata": {},
   "source": [
    "## Zpracování a preprocessing dat\n",
    "\n",
    "Jelikož, jak bylo psáno v předchozí části tohoto notebooku, se dataset skládá ze dvou menších, je zapotřebí nejdříve tyto dva datasety spojit do jednoho DataFramu. "
   ]
  },
  {
   "cell_type": "code",
   "execution_count": 43,
   "metadata": {},
   "outputs": [],
   "source": [
    "# import pandas and InteractiveShell\n",
    "import pandas as pd\n",
    "\n",
    "# nahrání obou částí datasetu a spojení jich v jeden \n",
    "df_1 = pd.read_csv(\"student-mat.csv\")\n",
    "df_2 = pd.read_csv(\"student-por.csv\")\n",
    "df = pd.concat([df_1, df_2], ignore_index=True)\n"
   ]
  },
  {
   "cell_type": "markdown",
   "metadata": {},
   "source": [
    "Jak lze vidět, vytvořili jsme jeden velký DataFrame. Jenže jak z popisu dat víme, někteří studenti jsou v něm dvakrát, jelikož studovali oba kurzy (Matiku i Portugalštinu). Je třeba tyto duplikáty odstranit. Na stránce, kde jsme dataset získali je zobrazeno, dle kterých atributů lze poznat stejného studenta. "
   ]
  },
  {
   "cell_type": "code",
   "execution_count": 44,
   "metadata": {},
   "outputs": [],
   "source": [
    "# odstranění duplikátů z datasetu a resetování indexů řádků\n",
    "df = df.drop_duplicates(subset=[\"school\", \"sex\", \"age\", \"address\", \"famsize\", \"Pstatus\", \"Medu\", \"Fedu\", \"Mjob\", \"Fjob\", \"reason\", \"nursery\", \"internet\"])\n",
    "df = df.reset_index(drop=True)\n"
   ]
  },
  {
   "cell_type": "markdown",
   "metadata": {},
   "source": [
    "Duplikáty byly odstraněny. Dále smažeme některé sloupce, dle kterých nechceme klasifikovat studentský alkoholismus. Těmi budou school, G1 a G2 (ze známek ponecháme pouze finální známku z předmětu). "
   ]
  },
  {
   "cell_type": "code",
   "execution_count": 45,
   "metadata": {},
   "outputs": [],
   "source": [
    "# odstranění některých sloupců\n",
    "df = df.drop(\"school\", 1)\n",
    "df = df.drop(\"G1\", 1)\n",
    "df = df.drop(\"G2\", 1)"
   ]
  },
  {
   "cell_type": "markdown",
   "metadata": {},
   "source": [
    "Klasifikovat budeme u studentů jejich alkoholismus, tj. výsledným atributem by mohl být Dalc či Walc. Pro zjednodušení tyto dva atributy zprůměrujeme a zaokhoruhlíme nahoru a tak dostaneme společný atribut jak pro pití v pracovním týdnu, tak o víkendu. Zároveň tak můžeme vypustit atributy Dalc a Walc."
   ]
  },
  {
   "cell_type": "code",
   "execution_count": 46,
   "metadata": {},
   "outputs": [],
   "source": [
    "# Vytvoření atributu celkového alkoholismu\n",
    "df[\"Alc\"] = round((df[\"Dalc\"] + df[\"Walc\"])/2)\n",
    "df[\"Alc\"] = df[\"Alc\"].astype(int)\n",
    "df = df.drop(\"Dalc\", 1)\n",
    "df = df.drop(\"Walc\", 1)"
   ]
  },
  {
   "cell_type": "markdown",
   "metadata": {},
   "source": [
    "Dále upravíme atributy Medu a Fedu, chceme spojit hodnoty 1 a 2, nebudeme rozlišovat stupně základního vzdělání, zajímá nás pouze jestli má rodič základní vzdělání či střední, žádné nebo vyšší.\n",
    "\n",
    "Nově tak budou tyto atributy nabývat následujících hodnot:\n",
    "\n",
    "* *0* - žádné vzdělání\n",
    "* *1* - základní vzdělání\n",
    "* *2* - středoškolské vzdělání\n",
    "* *3* - vyšší vzdělání než středoškolské"
   ]
  },
  {
   "cell_type": "code",
   "execution_count": 78,
   "metadata": {},
   "outputs": [
    {
     "data": {
      "text/html": [
       "<div>\n",
       "<style scoped>\n",
       "    .dataframe tbody tr th:only-of-type {\n",
       "        vertical-align: middle;\n",
       "    }\n",
       "\n",
       "    .dataframe tbody tr th {\n",
       "        vertical-align: top;\n",
       "    }\n",
       "\n",
       "    .dataframe thead th {\n",
       "        text-align: right;\n",
       "    }\n",
       "</style>\n",
       "<table border=\"1\" class=\"dataframe\">\n",
       "  <thead>\n",
       "    <tr style=\"text-align: right;\">\n",
       "      <th></th>\n",
       "      <th>age</th>\n",
       "      <th>Medu</th>\n",
       "      <th>Fedu</th>\n",
       "      <th>traveltime</th>\n",
       "      <th>studytime</th>\n",
       "      <th>failures</th>\n",
       "      <th>famrel</th>\n",
       "      <th>freetime</th>\n",
       "      <th>goout</th>\n",
       "      <th>health</th>\n",
       "      <th>absences</th>\n",
       "      <th>G3</th>\n",
       "      <th>Alc</th>\n",
       "    </tr>\n",
       "  </thead>\n",
       "  <tbody>\n",
       "    <tr>\n",
       "      <th>count</th>\n",
       "      <td>662.000000</td>\n",
       "      <td>662.000000</td>\n",
       "      <td>662.000000</td>\n",
       "      <td>662.000000</td>\n",
       "      <td>662.000000</td>\n",
       "      <td>662.000000</td>\n",
       "      <td>662.000000</td>\n",
       "      <td>662.000000</td>\n",
       "      <td>662.000000</td>\n",
       "      <td>662.000000</td>\n",
       "      <td>662.000000</td>\n",
       "      <td>662.000000</td>\n",
       "      <td>662.000000</td>\n",
       "    </tr>\n",
       "    <tr>\n",
       "      <th>mean</th>\n",
       "      <td>16.812689</td>\n",
       "      <td>0.990937</td>\n",
       "      <td>0.989426</td>\n",
       "      <td>1.564955</td>\n",
       "      <td>1.927492</td>\n",
       "      <td>0.332326</td>\n",
       "      <td>3.938066</td>\n",
       "      <td>3.184290</td>\n",
       "      <td>3.172205</td>\n",
       "      <td>3.531722</td>\n",
       "      <td>4.930514</td>\n",
       "      <td>10.725076</td>\n",
       "      <td>1.939577</td>\n",
       "    </tr>\n",
       "    <tr>\n",
       "      <th>std</th>\n",
       "      <td>1.269194</td>\n",
       "      <td>0.094841</td>\n",
       "      <td>0.102362</td>\n",
       "      <td>0.742799</td>\n",
       "      <td>0.827405</td>\n",
       "      <td>0.716024</td>\n",
       "      <td>0.941930</td>\n",
       "      <td>1.060583</td>\n",
       "      <td>1.161907</td>\n",
       "      <td>1.434835</td>\n",
       "      <td>6.858060</td>\n",
       "      <td>4.106738</td>\n",
       "      <td>0.998928</td>\n",
       "    </tr>\n",
       "    <tr>\n",
       "      <th>min</th>\n",
       "      <td>15.000000</td>\n",
       "      <td>0.000000</td>\n",
       "      <td>0.000000</td>\n",
       "      <td>1.000000</td>\n",
       "      <td>1.000000</td>\n",
       "      <td>0.000000</td>\n",
       "      <td>1.000000</td>\n",
       "      <td>1.000000</td>\n",
       "      <td>1.000000</td>\n",
       "      <td>1.000000</td>\n",
       "      <td>0.000000</td>\n",
       "      <td>0.000000</td>\n",
       "      <td>1.000000</td>\n",
       "    </tr>\n",
       "    <tr>\n",
       "      <th>25%</th>\n",
       "      <td>16.000000</td>\n",
       "      <td>1.000000</td>\n",
       "      <td>1.000000</td>\n",
       "      <td>1.000000</td>\n",
       "      <td>1.000000</td>\n",
       "      <td>0.000000</td>\n",
       "      <td>4.000000</td>\n",
       "      <td>3.000000</td>\n",
       "      <td>2.000000</td>\n",
       "      <td>2.000000</td>\n",
       "      <td>0.000000</td>\n",
       "      <td>9.000000</td>\n",
       "      <td>1.000000</td>\n",
       "    </tr>\n",
       "    <tr>\n",
       "      <th>50%</th>\n",
       "      <td>17.000000</td>\n",
       "      <td>1.000000</td>\n",
       "      <td>1.000000</td>\n",
       "      <td>1.000000</td>\n",
       "      <td>2.000000</td>\n",
       "      <td>0.000000</td>\n",
       "      <td>4.000000</td>\n",
       "      <td>3.000000</td>\n",
       "      <td>3.000000</td>\n",
       "      <td>4.000000</td>\n",
       "      <td>3.000000</td>\n",
       "      <td>11.000000</td>\n",
       "      <td>2.000000</td>\n",
       "    </tr>\n",
       "    <tr>\n",
       "      <th>75%</th>\n",
       "      <td>18.000000</td>\n",
       "      <td>1.000000</td>\n",
       "      <td>1.000000</td>\n",
       "      <td>2.000000</td>\n",
       "      <td>2.000000</td>\n",
       "      <td>0.000000</td>\n",
       "      <td>5.000000</td>\n",
       "      <td>4.000000</td>\n",
       "      <td>4.000000</td>\n",
       "      <td>5.000000</td>\n",
       "      <td>8.000000</td>\n",
       "      <td>13.000000</td>\n",
       "      <td>2.000000</td>\n",
       "    </tr>\n",
       "    <tr>\n",
       "      <th>max</th>\n",
       "      <td>22.000000</td>\n",
       "      <td>1.000000</td>\n",
       "      <td>1.000000</td>\n",
       "      <td>4.000000</td>\n",
       "      <td>4.000000</td>\n",
       "      <td>3.000000</td>\n",
       "      <td>5.000000</td>\n",
       "      <td>5.000000</td>\n",
       "      <td>5.000000</td>\n",
       "      <td>5.000000</td>\n",
       "      <td>75.000000</td>\n",
       "      <td>20.000000</td>\n",
       "      <td>5.000000</td>\n",
       "    </tr>\n",
       "  </tbody>\n",
       "</table>\n",
       "</div>"
      ],
      "text/plain": [
       "              age        Medu        Fedu  traveltime   studytime    failures  \\\n",
       "count  662.000000  662.000000  662.000000  662.000000  662.000000  662.000000   \n",
       "mean    16.812689    0.990937    0.989426    1.564955    1.927492    0.332326   \n",
       "std      1.269194    0.094841    0.102362    0.742799    0.827405    0.716024   \n",
       "min     15.000000    0.000000    0.000000    1.000000    1.000000    0.000000   \n",
       "25%     16.000000    1.000000    1.000000    1.000000    1.000000    0.000000   \n",
       "50%     17.000000    1.000000    1.000000    1.000000    2.000000    0.000000   \n",
       "75%     18.000000    1.000000    1.000000    2.000000    2.000000    0.000000   \n",
       "max     22.000000    1.000000    1.000000    4.000000    4.000000    3.000000   \n",
       "\n",
       "           famrel    freetime       goout      health    absences          G3  \\\n",
       "count  662.000000  662.000000  662.000000  662.000000  662.000000  662.000000   \n",
       "mean     3.938066    3.184290    3.172205    3.531722    4.930514   10.725076   \n",
       "std      0.941930    1.060583    1.161907    1.434835    6.858060    4.106738   \n",
       "min      1.000000    1.000000    1.000000    1.000000    0.000000    0.000000   \n",
       "25%      4.000000    3.000000    2.000000    2.000000    0.000000    9.000000   \n",
       "50%      4.000000    3.000000    3.000000    4.000000    3.000000   11.000000   \n",
       "75%      5.000000    4.000000    4.000000    5.000000    8.000000   13.000000   \n",
       "max      5.000000    5.000000    5.000000    5.000000   75.000000   20.000000   \n",
       "\n",
       "              Alc  \n",
       "count  662.000000  \n",
       "mean     1.939577  \n",
       "std      0.998928  \n",
       "min      1.000000  \n",
       "25%      1.000000  \n",
       "50%      2.000000  \n",
       "75%      2.000000  \n",
       "max      5.000000  "
      ]
     },
     "execution_count": 78,
     "metadata": {},
     "output_type": "execute_result"
    }
   ],
   "source": [
    "df[\"Medu\"] = df[\"Medu\"].apply(lambda x: (x if x<2 else x-1))\n",
    "df[\"Fedu\"] = df[\"Fedu\"].apply(lambda x: (x if x<2 else x-1))\n",
    "df.describe()"
   ]
  },
  {
   "cell_type": "markdown",
   "metadata": {},
   "source": [
    "## Vizualizace dat\n",
    "\n",
    "V následující části si pro lepší zorientování v datasetu vizuálně zobrazíme některé atributy a jejich vztah ke konzumaci alkoholu."
   ]
  },
  {
   "cell_type": "code",
   "execution_count": 77,
   "metadata": {},
   "outputs": [
    {
     "data": {
      "image/png": "[encoded data removed]",
      "text/plain": [
       "<Figure size 432x288 with 1 Axes>"
      ]
     },
     "metadata": {
      "needs_background": "light"
     },
     "output_type": "display_data"
    }
   ],
   "source": [
    "import matplotlib.pyplot as plt\n",
    "import numpy as np\n",
    "\n",
    "%matplotlib inline\n",
    "\n",
    "bins = np.arange(0.5,6,1)\n",
    "plt.hist(df['Alc'],bins=bins)\n",
    "plt.xlabel('Množství alkoholu')\n",
    "plt.title('Přehled vypitého alkoholu')\n",
    "plt.xticks(range(6))\n",
    "plt.show()"
   ]
  },
  {
   "cell_type": "code",
   "execution_count": 80,
   "metadata": {},
   "outputs": [
    {
     "data": {
      "image/png": "[encoded data removed]",
      "text/plain": [
       "<Figure size 432x288 with 1 Axes>"
      ]
     },
     "metadata": {
      "needs_background": "light"
     },
     "output_type": "display_data"
    }
   ],
   "source": [
    "bins = np.arange(14.5,23,1)\n",
    "plt.hist(df['age'],bins=bins)\n",
    "plt.xlabel('Věk')\n",
    "plt.title('Věkové rozložení')\n",
    "plt.xticks(range(15,23))\n",
    "plt.show()"
   ]
  },
  {
   "cell_type": "code",
   "execution_count": 91,
   "metadata": {},
   "outputs": [
    {
     "data": {
      "image/png": "[encoded data removed]",
      "text/plain": [
       "<Figure size 432x288 with 1 Axes>"
      ]
     },
     "metadata": {
      "needs_background": "light"
     },
     "output_type": "display_data"
    }
   ],
   "source": [
    "plt.bar([0,1],df['sex'].value_counts())\n",
    "plt.xlabel('Pohlaví')\n",
    "plt.title('Genderové rozložení')\n",
    "plt.xticks([0,1],['Female','Male'])\n",
    "plt.show()\n"
   ]
  },
  {
   "cell_type": "code",
   "execution_count": 111,
   "metadata": {},
   "outputs": [
    {
     "data": {
      "text/plain": [
       "<matplotlib.axes._subplots.AxesSubplot at 0x193204d74e0>"
      ]
     },
     "execution_count": 111,
     "metadata": {},
     "output_type": "execute_result"
    },
    {
     "data": {
      "image/png": "[encoded data removed]",
      "text/plain": [
       "<Figure size 432x288 with 1 Axes>"
      ]
     },
     "metadata": {
      "needs_background": "light"
     },
     "output_type": "display_data"
    }
   ],
   "source": [
    " df.groupby('age')['Alc'].mean().plot()\n"
   ]
  },
  {
   "cell_type": "code",
   "execution_count": null,
   "metadata": {},
   "outputs": [],
   "source": []
  }
 ],
 "metadata": {
  "kernelspec": {
   "display_name": "Python 3",
   "language": "python",
   "name": "python3"
  },
  "language_info": {
   "codemirror_mode": {
    "name": "ipython",
    "version": 3
   },
   "file_extension": ".py",
   "mimetype": "text/x-python",
   "name": "python",
   "nbconvert_exporter": "python",
   "pygments_lexer": "ipython3",
   "version": "3.7.1"
  }
 },
 "nbformat": 4,
 "nbformat_minor": 2
}
