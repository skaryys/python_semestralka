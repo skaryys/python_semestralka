{
 "cells": [
  {
   "cell_type": "markdown",
   "metadata": {},
   "source": [
    "# Student Alcohol Consumption\n",
    "\n",
    "Martin Škára + Jindřich Buk\n",
    "\n",
    "Tato semestrální práce se zabývá zpracováním datasetu Student Alcohol Consumption, získaného zde: https://data.world/data-society/student-alcohol-consumption. Tento iPython notebook se skládá z následujících částí: základní popis tohoto datasetu, zpracování a preprocessing dat, vizualizace dat, vytvoření modelů, tuning metaparametrů, výsledky a evaluace. \n",
    "\n",
    "\n",
    "//Nechal bych v týhle buňce jen něco na způsob výše, tohle jen tak narychlo osnova\n",
    "\n",
    "## Osnova - po dokončení smazat\n",
    "\n",
    "### Popis datasetu\n",
    "\n",
    "Nějaký kecy blablabla\n",
    "\n",
    "### Zpracování dat (preprocessing)\n",
    "\n",
    "Asi pro nás spojení těch dvou datasetů, zprůměrování skore alkoholismu v pracovní den s víkendem možná? Plus odstranění některých sloupců. Mělo by být použité pandas.\n",
    "\n",
    "### Vizualizace dat\n",
    "\n",
    "Viz příklad co má na webu k předmětu https://www.datacamp.com/community/tutorials/scikit-learn-tutorial-baseball-1\n",
    "\n",
    "### Modelování\n",
    "\n",
    "Každej jeden model asi? Musí se použít buď rozdělení dat na testovací/trénovací či crossvalidace. Za mě bych se přikláněl ke crossvalidaci. Nutno použít balíky z sklearn.\n",
    "\n",
    "### \"Tunění\" parametrů\n",
    "\n",
    "Buď zkusit několik konfigurací modelu a srovnat je, či grid search apod.\n",
    "\n",
    "### Výsledky/Evaluace\n",
    "\n",
    "výsledky, jak byl modej dobrej apod., plus nějaký kecy třeba že největší vliv na to má matčino povolání \n",
    "\n",
    "zobrazit accuracy, pak mě třeba napadá matice záměn nebo co se nám bude chtít\n"
   ]
  },
  {
   "cell_type": "markdown",
   "metadata": {},
   "source": [
    "## Popis datasetu\n",
    "\n",
    "Data byla získána pomocí dotazníku mezi studenty matematiky a portugalštiny na střední škole. Samotný dataset je rozdělený mezi dva menší - jeden obsahuje odpovědi studentů matematiky, druhý odpovědi studentů portugalštiny.\n",
    "\n",
    "### Atributy datasetu\n",
    "\n",
    "* *school* - Škola, na kterou studenti chodí ('GP' - Gabriel Pereira a 'MS' - Mousinho da Silveira)\n",
    "* *sex* - Pohlaví studenta ('F' pro ženu, 'M' pro muže)\n",
    "* *age* - Věk studenta (číslo)\n",
    "* *adress* - Typ studentova bydliště ('U' - urban (město), 'R' - rural (venkov))\n",
    "* *famsize* - Počet členů studentovy rodiny v domácnosti ('LT3' - 3 a méně, 'GT3' - více než 3)\n",
    "* *Pstatus* - Atribut označuje zdali studentovi rodiče žijí spolu či ne ('T' - žijí spolu, 'A' - žijí odděleně)\n",
    "* *Medu* - vzdělání matky (0 - žádné, 1 - základní vzdělání (4th grade), 2 - základní vzdělání (více než 4th grade), 3 - středoškolské vzdělání, 4 - vyšší vzdělání)\n",
    "* *Fedu* - obdobný atribut jako Medu, označující vzdělání otce\n",
    "* *Mjob* - práce matky ('teacher' - učitelka, 'health' - vztahující se ke zdraví a péči, 'services' - státní zaměstnankyně, 'at_home' - v domácnosti, 'other' - jiné)\n",
    "* *Fjob* - obdobný atribut jako Mjob, označující práci otce\n",
    "* *reason* - Důvod, proč si student vybral jeho školu ('home' - blízko domova, 'reputation' - reputace školy, 'course' - kvůli předmětům/oboru, 'other' - jiné)\n",
    "* *guardian* - zákonný zástupce ('mother' - matka, 'father' - otec, 'other' - někdo jiný)\n",
    "* *traveltime* - jak dlouho student cestuje do školy (1 - do 15 min., 2 - mezi 15 a 30 min., 3 - mezi 30 min. a 1 hodinou, 4 - více než hodinu)\n",
    "* *studytime* - kolik hodin týdně se student doma učí (1 - méně než 2 hodiny, 2 - 2-5 hodin, 3 - 5-10 hodin, 4 - více než 10 hodin)\n",
    "* *failures* - kolik předmětů student dokončil neúspěšně (\n",
    "\n",
    "\n"
   ]
  }
 ],
 "metadata": {
  "kernelspec": {
   "display_name": "Python 3",
   "language": "python",
   "name": "python3"
  },
  "language_info": {
   "codemirror_mode": {
    "name": "ipython",
    "version": 3
   },
   "file_extension": ".py",
   "mimetype": "text/x-python",
   "name": "python",
   "nbconvert_exporter": "python",
   "pygments_lexer": "ipython3",
   "version": "3.7.1"
  }
 },
 "nbformat": 4,
 "nbformat_minor": 2
}
